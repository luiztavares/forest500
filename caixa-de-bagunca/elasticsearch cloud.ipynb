{
 "cells": [
  {
   "cell_type": "code",
   "execution_count": null,
   "metadata": {},
   "outputs": [],
   "source": [
    "import json\n",
    "from elasticsearch import Elasticsearch, helpers\n",
    "import datetime\n",
    "from glob import glob\n",
    "es = Elasticsearch(['http://34.95.230.124:9200/'])\n",
    "\n",
    "def parse_date(tweet):\n",
    "    tweet['created_at'] = datetime.datetime.strptime(tweet['created_at'],'%a %b %d %H:%M:%S +0000 %Y')\n",
    "    tweet['user']['created_at'] = datetime.datetime.strptime(tweet['user']['created_at'],'%a %b %d %H:%M:%S +0000 %Y')\n",
    "    if ('retweeted_status' in tweet):\n",
    "        tweet['retweeted_status']['created_at'] = datetime.datetime.strptime(tweet['retweeted_status']['created_at'],'%a %b %d %H:%M:%S +0000 %Y')\n",
    "        tweet['retweeted_status']['user']['created_at'] = datetime.datetime.strptime(tweet['retweeted_status']['user']['created_at'],'%a %b %d %H:%M:%S +0000 %Y')\n",
    "    return tweet"
   ]
  },
  {
   "cell_type": "code",
   "execution_count": null,
   "metadata": {},
   "outputs": [],
   "source": [
    "forest500settings = {\n",
    "    \"settings\":{\n",
    "        \"index\":{\n",
    "            \"mapping\":{\n",
    "                \"total_fields\":{\n",
    "                    \"limit\":\"2000\"\n",
    "                }\n",
    "            }\n",
    "        }\n",
    "    }\n",
    "}\n",
    "es.indices.create('forest500',body=forest500settings)"
   ]
  },
  {
   "cell_type": "code",
   "execution_count": null,
   "metadata": {
    "tags": []
   },
   "outputs": [],
   "source": [
    "companies_path = glob('/Users/luiz/OneDrive/forest500/output-company/*.json')\n",
    "#companies_path = glob('../data/company/*.json')\n",
    "for company_path in companies_path:\n",
    "    with open(company_path) as f:\n",
    "        tweets = json.load(f)\n",
    "    \n",
    "    print(company_path)\n",
    "\n",
    "    for tweet in tweets:\n",
    "        tweet = parse_date(tweet)\n",
    "        tweet['user']['type'] = 'company'\n",
    "        res = es.index(index=\"forest500\", id=tweet['id'], body=tweet)\n",
    "\n",
    "es.indices.refresh(index=\"forest500\")"
   ]
  },
  {
   "cell_type": "code",
   "execution_count": null,
   "metadata": {},
   "outputs": [],
   "source": [
    "companies_path = glob('/Users/luiz/OneDrive/forest500/output/*.json')\n",
    "#companies_path = glob('../data/if/*.json')\n",
    "for company_path in companies_path:\n",
    "    with open(company_path) as f:\n",
    "        tweets = json.load(f)\n",
    "    \n",
    "    print(company_path)\n",
    "\n",
    "    for tweet in tweets:\n",
    "        tweet = parse_date(tweet)\n",
    "        tweet['user']['type'] = 'financial'\n",
    "        res = es.index(index=\"forest500\", id=tweet['id'], body=tweet)\n",
    "\n",
    "es.indices.refresh(index=\"forest500\")"
   ]
  },
  {
   "cell_type": "code",
   "execution_count": null,
   "metadata": {},
   "outputs": [],
   "source": [
    "query = {\n",
    "  \"query\": {\n",
    "    \"query_string\": {\n",
    "      \"query\": \"SantanderAM_UK\",\n",
    "      \"default_field\": \"user.screen_name\"\n",
    "    }\n",
    "  }\n",
    "}\n",
    "\n",
    "res = es.search(index=\"forest500\", body=query)\n"
   ]
  },
  {
   "cell_type": "code",
   "execution_count": 2,
   "metadata": {},
   "outputs": [
    {
     "name": "stdout",
     "output_type": "stream",
     "text": [
      "3M\n"
     ]
    },
    {
     "name": "stderr",
     "output_type": "stream",
     "text": [
      "/Library/Frameworks/Python.framework/Versions/3.9/lib/python3.9/site-packages/elasticsearch/connection/base.py:208: ElasticsearchWarning: Elasticsearch built-in security features are not enabled. Without authentication, your cluster could be accessible to anyone. See https://www.elastic.co/guide/en/elasticsearch/reference/7.13/security-minimal-setup.html to enable security.\n",
      "  warnings.warn(message, category=ElasticsearchWarning)\n"
     ]
    },
    {
     "name": "stdout",
     "output_type": "stream",
     "text": [
      "agdagro\n",
      "adidas\n"
     ]
    }
   ],
   "source": [
    "import pandas as pd\n",
    "\n",
    "companies = pd.read_excel('../input/forest500.xlsx',sheet_name='company')\n",
    "financial = pd.read_excel('../input/forest500.xlsx',sheet_name='financial')\n",
    "\n",
    "for index,row in companies.iterrows():\n",
    "    if(pd.isna(row['Handles'])):\n",
    "        continue\n",
    "    handles = row['Handles'].split(',')\n",
    "    for handle in handles:\n",
    "        print(handle)\n",
    "        query = {\n",
    "            \"query\": {\n",
    "                \"term\": {\n",
    "                    \"user.screen_name.keyword\": {\n",
    "                        \"value\": handle,\n",
    "                        \"boost\": 1.0\n",
    "                    }\n",
    "                }\n",
    "            },\n",
    "            \"_source\": False\n",
    "        }\n",
    "\n",
    "\n",
    "        res = helpers.scan(\n",
    "                        client = es,\n",
    "                        query = query, \n",
    "                        index = 'forest500')\n",
    "\n",
    "        for tweet in res:\n",
    "            update_query = {\n",
    "                'doc':{\n",
    "                    \n",
    "                        'official_name': row['Name'],\n",
    "                        'type': row['Type'],\n",
    "                        'subsidary': row['Subsidary'],\n",
    "                        'brands': str(row['Brands']).split(','),\n",
    "                        'sectors': str(row['Company sectors']).split(','),\n",
    "                        'headquarters': row['Headquarters'],\n",
    "                        'region': row['HQ region'],\n",
    "                        'commodities_powerbroker': str(row['Commodities (powerbroker_']).split(','),\n",
    "                        'segments_powerbroker': str(row['Segments (powerbroker)']).split(','),\n",
    "                        'commodities_other': str(row['Commodities (Other)']).split(','),\n",
    "                        'segments_other': str(row['Segments (Other)']).split(','),\n",
    "                        'signatories': str(row['Sign']).split(','),\n",
    "                }\n",
    "            }\n",
    "            try:\n",
    "                es.update(index='forest500', id=tweet['_id'], body=update_query)\n",
    "            except:\n",
    "                print(update_query)\n"
   ]
  },
  {
   "cell_type": "code",
   "execution_count": null,
   "metadata": {},
   "outputs": [],
   "source": [
    "import pandas as pd\n",
    "\n",
    "financial = pd.read_excel('../input/forest500.xlsx',sheet_name='financial')\n",
    "\n",
    "for index,row in financial.iterrows():\n",
    "    if(pd.isna(row['Handles'])):\n",
    "        continue\n",
    "    handles = row['Handles'].split(',')\n",
    "    for handle in handles:\n",
    "        print(handle)\n",
    "        query = {\n",
    "            \"query\": {\n",
    "                \"term\": {\n",
    "                    \"user.screen_name.keyword\": {\n",
    "                        \"value\": handle,\n",
    "                        \"boost\": 1.0\n",
    "                    }\n",
    "                }\n",
    "            },\n",
    "            \"_source\": False\n",
    "        }\n",
    "\n",
    "        res = helpers.scan(\n",
    "                        client = es,\n",
    "                        query = query, \n",
    "                        index = 'forest500')\n",
    "\n",
    "        for tweet in res:\n",
    "            update_query = {\n",
    "                'doc':{\n",
    "                        'official_name': row['Name'],\n",
    "                        'type': row['Type'],\n",
    "                        'subsidary': str(row['FI subsidary']),\n",
    "                        'FI type': str(row['FI type']).split(','),\n",
    "                        'headquarters': str(row['FI Headquarters']),\n",
    "                        'region': str(row['HQ Region']),\n",
    "                        'commodities': str(row['Commodities assessed for']).split(','),\n",
    "                }\n",
    "            }\n",
    "            try:\n",
    "                es.update(index='forest500', id=tweet['_id'], body=update_query)\n",
    "            except:\n",
    "                print(update_query)"
   ]
  }
 ],
 "metadata": {
  "interpreter": {
   "hash": "7812ea015bdcee6f23a998adcdd2ef97c151c0c241b7b7070987d9313e41299d"
  },
  "kernelspec": {
   "display_name": "Python 3.9.5 64-bit ('3.9')",
   "name": "python3"
  },
  "language_info": {
   "codemirror_mode": {
    "name": "ipython",
    "version": 3
   },
   "file_extension": ".py",
   "mimetype": "text/x-python",
   "name": "python",
   "nbconvert_exporter": "python",
   "pygments_lexer": "ipython3",
   "version": "3.9.5"
  },
  "orig_nbformat": 4
 },
 "nbformat": 4,
 "nbformat_minor": 2
}